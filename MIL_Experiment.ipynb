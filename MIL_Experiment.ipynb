{
  "cells": [
    {
      "cell_type": "markdown",
      "source": [
        "Install and load required libraries"
      ],
      "metadata": {
        "id": "OdqLOuATsJZR"
      },
      "id": "OdqLOuATsJZR"
    },
    {
      "cell_type": "code",
      "execution_count": null,
      "id": "9ff24644",
      "metadata": {
        "_cell_guid": "b1076dfc-b9ad-4769-8c92-a6c4dae69d19",
        "_uuid": "8f2839f25d086af736a60e9eeb907d3b93b6e0e5",
        "collapsed": true,
        "execution": {
          "iopub.execute_input": "2022-03-05T08:07:09.835485Z",
          "iopub.status.busy": "2022-03-05T08:07:09.834438Z",
          "iopub.status.idle": "2022-03-05T08:07:22.908425Z",
          "shell.execute_reply": "2022-03-05T08:07:22.910207Z",
          "shell.execute_reply.started": "2022-03-05T06:54:32.699278Z"
        },
        "jupyter": {
          "outputs_hidden": true
        },
        "papermill": {
          "duration": 13.135227,
          "end_time": "2022-03-05T08:07:22.910673",
          "exception": false,
          "start_time": "2022-03-05T08:07:09.775446",
          "status": "completed"
        },
        "tags": [],
        "id": "9ff24644"
      },
      "outputs": [],
      "source": [
        "!pip install datasets\n",
        "!pip install transformers"
      ]
    },
    {
      "cell_type": "code",
      "execution_count": 1,
      "id": "d122f8ad",
      "metadata": {
        "execution": {
          "iopub.execute_input": "2022-03-05T08:07:23.043411Z",
          "iopub.status.busy": "2022-03-05T08:07:23.039545Z",
          "iopub.status.idle": "2022-03-05T08:07:30.841213Z",
          "shell.execute_reply": "2022-03-05T08:07:30.840629Z",
          "shell.execute_reply.started": "2022-03-05T06:54:50.074004Z"
        },
        "papermill": {
          "duration": 7.837069,
          "end_time": "2022-03-05T08:07:30.841415",
          "exception": false,
          "start_time": "2022-03-05T08:07:23.004346",
          "status": "completed"
        },
        "tags": [],
        "id": "d122f8ad"
      },
      "outputs": [],
      "source": [
        "from datasets import load_dataset\n",
        "from transformers import AutoTokenizer, DataCollatorWithPadding\n",
        "from torch.utils.data import DataLoader\n",
        "from transformers import get_scheduler\n",
        "import torch\n",
        "from transformers import BertModel\n",
        "import torch.nn as nn"
      ]
    },
    {
      "cell_type": "markdown",
      "id": "2208465b",
      "metadata": {
        "papermill": {
          "duration": 0.030558,
          "end_time": "2022-03-05T08:07:30.902907",
          "exception": false,
          "start_time": "2022-03-05T08:07:30.872349",
          "status": "completed"
        },
        "tags": [],
        "id": "2208465b"
      },
      "source": [
        "load the data"
      ]
    },
    {
      "cell_type": "code",
      "execution_count": 2,
      "id": "8230335a",
      "metadata": {
        "execution": {
          "iopub.execute_input": "2022-03-05T08:07:30.977887Z",
          "iopub.status.busy": "2022-03-05T08:07:30.977121Z",
          "iopub.status.idle": "2022-03-05T08:07:31.905444Z",
          "shell.execute_reply": "2022-03-05T08:07:31.902151Z",
          "shell.execute_reply.started": "2022-03-05T06:55:27.940983Z"
        },
        "papermill": {
          "duration": 0.971428,
          "end_time": "2022-03-05T08:07:31.905710",
          "exception": false,
          "start_time": "2022-03-05T08:07:30.934282",
          "status": "completed"
        },
        "tags": [],
        "colab": {
          "base_uri": "https://localhost:8080/",
          "height": 347,
          "referenced_widgets": [
            "a3975f5145e64db98330d5de6581107a",
            "a22df643dee94803bef7a53d035bbdc2",
            "0cf4eec31c9543e9aa43343899fe056c",
            "8397ee3986af4f96a27c9bc049d520cc",
            "e76a606c255e4399aed2f142cd648405",
            "1482980b8e2744fcb4531758b9ee1047",
            "eb1819d0ee9f4a9e959476b79518093a",
            "2d823caf09e1409080745deede92909a",
            "2983393448ec4dedb3eae61b0b295d77",
            "63c2ca9b1fb34a719820f85deb29430d",
            "4ce9ec83978e4e5cba03159f0cf2e8fb"
          ]
        },
        "id": "8230335a",
        "outputId": "7bd5da7e-72dd-4316-9503-09944b49fbfe"
      },
      "outputs": [
        {
          "output_type": "stream",
          "name": "stderr",
          "text": [
            "WARNING:datasets.builder:Using custom data configuration default-2f508cfaef1aed22\n",
            "WARNING:datasets.builder:Found cached dataset csv (/root/.cache/huggingface/datasets/csv/default-2f508cfaef1aed22/0.0.0/6b34fb8fcf56f7c8ba51dc895bfa2bfbe43546f190a60fcf74bb5e8afdcc2317)\n"
          ]
        },
        {
          "output_type": "display_data",
          "data": {
            "text/plain": [
              "  0%|          | 0/3 [00:00<?, ?it/s]"
            ],
            "application/vnd.jupyter.widget-view+json": {
              "version_major": 2,
              "version_minor": 0,
              "model_id": "a3975f5145e64db98330d5de6581107a"
            }
          },
          "metadata": {}
        },
        {
          "output_type": "execute_result",
          "data": {
            "text/plain": [
              "DatasetDict({\n",
              "    test: Dataset({\n",
              "        features: ['label', 'sentence'],\n",
              "        num_rows: 1821\n",
              "    })\n",
              "    train: Dataset({\n",
              "        features: ['label', 'sentence'],\n",
              "        num_rows: 6920\n",
              "    })\n",
              "    val: Dataset({\n",
              "        features: ['label', 'sentence'],\n",
              "        num_rows: 872\n",
              "    })\n",
              "})"
            ]
          },
          "metadata": {},
          "execution_count": 2
        }
      ],
      "source": [
        "data_files={\"test\":\"data/test.csv\",\"train\":\"data/train.csv\",\"val\":\"data/val.csv\"}\n",
        "raw_data_dict=load_dataset(\"csv\",data_files=data_files)\n",
        "raw_data_dict"
      ]
    },
    {
      "cell_type": "markdown",
      "id": "2289599f",
      "metadata": {
        "papermill": {
          "duration": 0.131909,
          "end_time": "2022-03-05T08:07:32.151270",
          "exception": false,
          "start_time": "2022-03-05T08:07:32.019361",
          "status": "completed"
        },
        "tags": [],
        "id": "2289599f"
      },
      "source": [
        "tokenizing the text"
      ]
    },
    {
      "cell_type": "code",
      "execution_count": 3,
      "id": "66268ae6",
      "metadata": {
        "execution": {
          "iopub.execute_input": "2022-03-05T08:07:32.434061Z",
          "iopub.status.busy": "2022-03-05T08:07:32.432923Z",
          "iopub.status.idle": "2022-03-05T08:07:39.991403Z",
          "shell.execute_reply": "2022-03-05T08:07:39.990713Z",
          "shell.execute_reply.started": "2022-03-05T06:55:34.655076Z"
        },
        "papermill": {
          "duration": 7.699286,
          "end_time": "2022-03-05T08:07:39.991618",
          "exception": false,
          "start_time": "2022-03-05T08:07:32.292332",
          "status": "completed"
        },
        "tags": [],
        "id": "66268ae6"
      },
      "outputs": [],
      "source": [
        "checkpoint=\"bert-base-uncased\"\n",
        "tokenizer=AutoTokenizer.from_pretrained(checkpoint)\n",
        "data_collator = DataCollatorWithPadding(tokenizer=tokenizer)"
      ]
    },
    {
      "cell_type": "code",
      "execution_count": 4,
      "id": "1ce238db",
      "metadata": {
        "execution": {
          "iopub.execute_input": "2022-03-05T08:07:40.072988Z",
          "iopub.status.busy": "2022-03-05T08:07:40.071737Z",
          "iopub.status.idle": "2022-03-05T08:07:40.074389Z",
          "shell.execute_reply": "2022-03-05T08:07:40.075011Z",
          "shell.execute_reply.started": "2022-03-05T06:55:43.828945Z"
        },
        "papermill": {
          "duration": 0.045763,
          "end_time": "2022-03-05T08:07:40.075183",
          "exception": false,
          "start_time": "2022-03-05T08:07:40.029420",
          "status": "completed"
        },
        "tags": [],
        "id": "1ce238db"
      },
      "outputs": [],
      "source": [
        "def tokenize(example):\n",
        "    return tokenizer(example['sentence'],truncation=True)"
      ]
    },
    {
      "cell_type": "code",
      "execution_count": 5,
      "id": "a08f754f",
      "metadata": {
        "execution": {
          "iopub.execute_input": "2022-03-05T08:07:40.236782Z",
          "iopub.status.busy": "2022-03-05T08:07:40.235416Z",
          "iopub.status.idle": "2022-03-05T08:07:41.565128Z",
          "shell.execute_reply": "2022-03-05T08:07:41.564547Z",
          "shell.execute_reply.started": "2022-03-05T06:55:46.701300Z"
        },
        "papermill": {
          "duration": 1.380552,
          "end_time": "2022-03-05T08:07:41.565278",
          "exception": false,
          "start_time": "2022-03-05T08:07:40.184726",
          "status": "completed"
        },
        "tags": [],
        "colab": {
          "base_uri": "https://localhost:8080/",
          "height": 347,
          "referenced_widgets": [
            "abb8aec31ae449f58dac0837a6516962",
            "689ad37c7be541b9b124364519d3a7e0",
            "95eebc1dc178492bb238d7ee7a06df5f",
            "c0f379cd1c544ecebda05a35ffd895f9",
            "f75caf4c1f404836ab19b028eef8d294",
            "8ec7fb8040fd4707b5af4b39bafc24c7",
            "3378c10dd485488890c698d2b622c5ae",
            "1a14c5583fab4c40a3e12195d2d778c0",
            "2b1728f8965847858ea3abf8d3273310",
            "eeca558e0c224e099e1f02d9d7c07f88",
            "cf0f2e85285842bc90ac6bb96bbc1513"
          ]
        },
        "id": "a08f754f",
        "outputId": "000de349-8fa4-4a59-f1df-f6e25bba8cae"
      },
      "outputs": [
        {
          "output_type": "stream",
          "name": "stderr",
          "text": [
            "WARNING:datasets.arrow_dataset:Loading cached processed dataset at /root/.cache/huggingface/datasets/csv/default-2f508cfaef1aed22/0.0.0/6b34fb8fcf56f7c8ba51dc895bfa2bfbe43546f190a60fcf74bb5e8afdcc2317/cache-90ea0e2b08a371f8.arrow\n"
          ]
        },
        {
          "output_type": "display_data",
          "data": {
            "text/plain": [
              "  0%|          | 0/7 [00:00<?, ?ba/s]"
            ],
            "application/vnd.jupyter.widget-view+json": {
              "version_major": 2,
              "version_minor": 0,
              "model_id": "abb8aec31ae449f58dac0837a6516962"
            }
          },
          "metadata": {}
        },
        {
          "output_type": "stream",
          "name": "stderr",
          "text": [
            "WARNING:datasets.arrow_dataset:Loading cached processed dataset at /root/.cache/huggingface/datasets/csv/default-2f508cfaef1aed22/0.0.0/6b34fb8fcf56f7c8ba51dc895bfa2bfbe43546f190a60fcf74bb5e8afdcc2317/cache-8365361b5933f9b3.arrow\n"
          ]
        },
        {
          "output_type": "execute_result",
          "data": {
            "text/plain": [
              "DatasetDict({\n",
              "    test: Dataset({\n",
              "        features: ['label', 'sentence', 'input_ids', 'token_type_ids', 'attention_mask'],\n",
              "        num_rows: 1821\n",
              "    })\n",
              "    train: Dataset({\n",
              "        features: ['label', 'sentence', 'input_ids', 'token_type_ids', 'attention_mask'],\n",
              "        num_rows: 6920\n",
              "    })\n",
              "    val: Dataset({\n",
              "        features: ['label', 'sentence', 'input_ids', 'token_type_ids', 'attention_mask'],\n",
              "        num_rows: 872\n",
              "    })\n",
              "})"
            ]
          },
          "metadata": {},
          "execution_count": 5
        }
      ],
      "source": [
        "tokenized_datadict= raw_data_dict.map(tokenize, batched=True)\n",
        "tokenized_datadict"
      ]
    },
    {
      "cell_type": "code",
      "execution_count": 6,
      "id": "4025df65",
      "metadata": {
        "execution": {
          "iopub.execute_input": "2022-03-05T08:07:41.732283Z",
          "iopub.status.busy": "2022-03-05T08:07:41.731101Z",
          "iopub.status.idle": "2022-03-05T08:07:41.745830Z",
          "shell.execute_reply": "2022-03-05T08:07:41.745296Z",
          "shell.execute_reply.started": "2022-03-05T06:55:59.719190Z"
        },
        "papermill": {
          "duration": 0.060837,
          "end_time": "2022-03-05T08:07:41.746047",
          "exception": false,
          "start_time": "2022-03-05T08:07:41.685210",
          "status": "completed"
        },
        "tags": [],
        "colab": {
          "base_uri": "https://localhost:8080/"
        },
        "id": "4025df65",
        "outputId": "2b5ffb4e-d362-4283-bace-28cf029492f1"
      },
      "outputs": [
        {
          "output_type": "execute_result",
          "data": {
            "text/plain": [
              "DatasetDict({\n",
              "    test: Dataset({\n",
              "        features: ['labels', 'input_ids', 'attention_mask'],\n",
              "        num_rows: 1821\n",
              "    })\n",
              "    train: Dataset({\n",
              "        features: ['labels', 'input_ids', 'attention_mask'],\n",
              "        num_rows: 6920\n",
              "    })\n",
              "    val: Dataset({\n",
              "        features: ['labels', 'input_ids', 'attention_mask'],\n",
              "        num_rows: 872\n",
              "    })\n",
              "})"
            ]
          },
          "metadata": {},
          "execution_count": 6
        }
      ],
      "source": [
        "tokenized_datadict =tokenized_datadict.remove_columns([\"sentence\", \"token_type_ids\"])\n",
        "tokenized_datadict = tokenized_datadict.rename_column(\"label\", \"labels\")\n",
        "tokenized_datadict"
      ]
    },
    {
      "cell_type": "code",
      "execution_count": 7,
      "id": "7b2c83b5",
      "metadata": {
        "execution": {
          "iopub.execute_input": "2022-03-05T08:07:41.914539Z",
          "iopub.status.busy": "2022-03-05T08:07:41.913420Z",
          "iopub.status.idle": "2022-03-05T08:07:41.918258Z",
          "shell.execute_reply": "2022-03-05T08:07:41.917628Z",
          "shell.execute_reply.started": "2022-03-05T06:56:18.745394Z"
        },
        "papermill": {
          "duration": 0.049734,
          "end_time": "2022-03-05T08:07:41.918408",
          "exception": false,
          "start_time": "2022-03-05T08:07:41.868674",
          "status": "completed"
        },
        "tags": [],
        "id": "7b2c83b5"
      },
      "outputs": [],
      "source": [
        "tokenized_datadict.set_format(\"torch\")"
      ]
    },
    {
      "cell_type": "markdown",
      "id": "31d7ef1a",
      "metadata": {
        "papermill": {
          "duration": 0.040738,
          "end_time": "2022-03-05T08:07:41.999256",
          "exception": false,
          "start_time": "2022-03-05T08:07:41.958518",
          "status": "completed"
        },
        "tags": [],
        "id": "31d7ef1a"
      },
      "source": [
        "load data into DataLoader to train"
      ]
    },
    {
      "cell_type": "code",
      "execution_count": 8,
      "id": "94a7f425",
      "metadata": {
        "execution": {
          "iopub.execute_input": "2022-03-05T08:07:42.085492Z",
          "iopub.status.busy": "2022-03-05T08:07:42.084558Z",
          "iopub.status.idle": "2022-03-05T08:07:42.088044Z",
          "shell.execute_reply": "2022-03-05T08:07:42.087427Z",
          "shell.execute_reply.started": "2022-03-05T07:06:14.512355Z"
        },
        "papermill": {
          "duration": 0.049645,
          "end_time": "2022-03-05T08:07:42.088171",
          "exception": false,
          "start_time": "2022-03-05T08:07:42.038526",
          "status": "completed"
        },
        "tags": [],
        "id": "94a7f425"
      },
      "outputs": [],
      "source": [
        "train_loader=DataLoader(tokenized_datadict[\"train\"], shuffle=True, batch_size=128, collate_fn=data_collator)\n",
        "test_loader=DataLoader(tokenized_datadict[\"test\"], shuffle=True, batch_size=128, collate_fn=data_collator)\n",
        "dev_loader=DataLoader(tokenized_datadict[\"val\"], shuffle=True, batch_size=128, collate_fn=data_collator)"
      ]
    },
    {
      "cell_type": "markdown",
      "source": [
        "load the model "
      ],
      "metadata": {
        "id": "JINc72-wwMVv"
      },
      "id": "JINc72-wwMVv"
    },
    {
      "cell_type": "code",
      "source": [
        "from Emodel import EfficientTransformer\n"
      ],
      "metadata": {
        "id": "ONdWZkdoQ0v1"
      },
      "id": "ONdWZkdoQ0v1",
      "execution_count": 9,
      "outputs": []
    },
    {
      "cell_type": "code",
      "execution_count": 17,
      "id": "dd093837",
      "metadata": {
        "execution": {
          "iopub.execute_input": "2022-03-05T08:07:42.349482Z",
          "iopub.status.busy": "2022-03-05T08:07:42.348738Z",
          "iopub.status.idle": "2022-03-05T08:08:01.109977Z",
          "shell.execute_reply": "2022-03-05T08:08:01.109055Z",
          "shell.execute_reply.started": "2022-03-05T07:25:45.818988Z"
        },
        "papermill": {
          "duration": 18.808288,
          "end_time": "2022-03-05T08:08:01.110153",
          "exception": false,
          "start_time": "2022-03-05T08:07:42.301865",
          "status": "completed"
        },
        "tags": [],
        "colab": {
          "base_uri": "https://localhost:8080/"
        },
        "id": "dd093837",
        "outputId": "60f4050e-5eaf-4f77-958d-de33fa276304"
      },
      "outputs": [
        {
          "output_type": "stream",
          "name": "stderr",
          "text": [
            "Some weights of the model checkpoint at bert-base-uncased were not used when initializing BertModel: ['cls.predictions.bias', 'cls.predictions.transform.LayerNorm.bias', 'cls.seq_relationship.bias', 'cls.predictions.transform.LayerNorm.weight', 'cls.seq_relationship.weight', 'cls.predictions.transform.dense.bias', 'cls.predictions.decoder.weight', 'cls.predictions.transform.dense.weight']\n",
            "- This IS expected if you are initializing BertModel from the checkpoint of a model trained on another task or with another architecture (e.g. initializing a BertForSequenceClassification model from a BertForPreTraining model).\n",
            "- This IS NOT expected if you are initializing BertModel from the checkpoint of a model that you expect to be exactly identical (initializing a BertForSequenceClassification model from a BertForSequenceClassification model).\n"
          ]
        }
      ],
      "source": [
        "model=EfficientTransformer(checkpoint,256)"
      ]
    },
    {
      "cell_type": "markdown",
      "id": "afa8d469",
      "metadata": {
        "papermill": {
          "duration": 0.039241,
          "end_time": "2022-03-05T08:08:01.190568",
          "exception": false,
          "start_time": "2022-03-05T08:08:01.151327",
          "status": "completed"
        },
        "tags": [],
        "id": "afa8d469"
      },
      "source": [
        "we move our model to GPU which accelerate our training.\n",
        "and we define our loss-function for binary classification and our optimizer."
      ]
    },
    {
      "cell_type": "code",
      "execution_count": 18,
      "id": "91266c7c",
      "metadata": {
        "execution": {
          "iopub.execute_input": "2022-03-05T08:08:01.338180Z",
          "iopub.status.busy": "2022-03-05T08:08:01.337141Z",
          "iopub.status.idle": "2022-03-05T08:08:08.089053Z",
          "shell.execute_reply": "2022-03-05T08:08:08.089620Z",
          "shell.execute_reply.started": "2022-03-05T07:25:51.140446Z"
        },
        "papermill": {
          "duration": 6.858787,
          "end_time": "2022-03-05T08:08:08.089806",
          "exception": false,
          "start_time": "2022-03-05T08:08:01.231019",
          "status": "completed"
        },
        "tags": [],
        "id": "91266c7c"
      },
      "outputs": [],
      "source": [
        "device = torch.device(\"cuda\") if torch.cuda.is_available() else torch.device(\"cpu\")\n",
        "model.to(device)\n",
        "loss_function= nn.BCEWithLogitsLoss()\n",
        "optimizer = torch.optim.Adam(model.parameters(), lr=0.001)"
      ]
    },
    {
      "cell_type": "markdown",
      "id": "a08f8198",
      "metadata": {
        "papermill": {
          "duration": 0.040531,
          "end_time": "2022-03-05T08:08:08.170642",
          "exception": false,
          "start_time": "2022-03-05T08:08:08.130111",
          "status": "completed"
        },
        "tags": [],
        "id": "a08f8198"
      },
      "source": [
        "we define a function which count how many predictions we make are right. Its an accuracy function"
      ]
    },
    {
      "cell_type": "code",
      "execution_count": 19,
      "id": "ef9ca989",
      "metadata": {
        "execution": {
          "iopub.execute_input": "2022-03-05T08:08:08.259897Z",
          "iopub.status.busy": "2022-03-05T08:08:08.257873Z",
          "iopub.status.idle": "2022-03-05T08:08:08.260631Z",
          "shell.execute_reply": "2022-03-05T08:08:08.261206Z",
          "shell.execute_reply.started": "2022-03-05T07:25:53.164135Z"
        },
        "papermill": {
          "duration": 0.051068,
          "end_time": "2022-03-05T08:08:08.261368",
          "exception": false,
          "start_time": "2022-03-05T08:08:08.210300",
          "status": "completed"
        },
        "tags": [],
        "id": "ef9ca989"
      },
      "outputs": [],
      "source": [
        "def binary_accuracy(preds, y):\n",
        "    rounded_preds = torch.round(preds)\n",
        "    correct = (rounded_preds == y).float()  \n",
        "    acc = correct.sum().item()\n",
        "    return acc"
      ]
    },
    {
      "cell_type": "code",
      "source": [
        "import matplotlib.pyplot as plt\n",
        "from IPython.display import clear_output\n",
        "\n",
        "def train_data(model, train_loader,optimizer, loss_function, clip, train_history=None, valid_history=None):\n",
        "    model.train()\n",
        "    history = []\n",
        "    epoch_loss=0\n",
        "    epoch_accuracy=0\n",
        "    data_num=0\n",
        "    \n",
        "    for i, batch in enumerate(train_loader):\n",
        "        optimizer.zero_grad()\n",
        "        outputs = model(batch[\"input_ids\"].to(device),batch[\"attention_mask\"].to(device)).squeeze(1)\n",
        "        \n",
        "        loss = loss_function(outputs, batch[\"labels\"].float().to(device))\n",
        "        epoch_loss+=loss\n",
        "        # print(\"epoch_accuracy is \",epoch_accuracy*100,\"%\")\n",
        "        epoch_accuracy+=binary_accuracy(outputs,batch[\"labels\"].to(device) )\n",
        "        data_num+=128\n",
        "        \n",
        "        loss.backward()\n",
        "        torch.nn.utils.clip_grad_norm_(model.parameters(), clip)\n",
        "        optimizer.step()\n",
        "\n",
        "        history.append(loss.cpu().data.numpy())\n",
        "        if (i+1)%10==0:\n",
        "            fig, ax = plt.subplots(nrows=1, ncols=2, figsize=(12, 8))\n",
        "\n",
        "            clear_output(True)\n",
        "            ax[0].plot(history, label='train loss')\n",
        "            ax[0].set_xlabel('Batch')\n",
        "            ax[0].set_title('Train loss')\n",
        "            if train_history is not None:\n",
        "                ax[1].plot(train_history, label='general train history')\n",
        "                ax[1].set_xlabel('Epoch')\n",
        "            if valid_history is not None:\n",
        "                ax[1].plot(valid_history, label='general valid history')\n",
        "            plt.legend()\n",
        "            \n",
        "            plt.show()\n",
        "    \n",
        "    epoch_loss=epoch_loss.item()\n",
        "    epoch_accuracy/=data_num\n",
        "    \n",
        "    return epoch_accuracy, epoch_loss"
      ],
      "metadata": {
        "id": "4xvPnY7Omu0r"
      },
      "id": "4xvPnY7Omu0r",
      "execution_count": 37,
      "outputs": []
    },
    {
      "cell_type": "code",
      "source": [
        "def eval_data(model, dev_loader,loss_function):\n",
        "    model.eval()\n",
        "    \n",
        "    epoch_loss = 0\n",
        "    epoch_accuracy=0\n",
        "    data_num=0\n",
        "    history = []\n",
        "    with torch.no_grad():\n",
        "        for batch in dev_loader:\n",
        "            outputs = model(batch[\"input_ids\"].to(device),batch[\"attention_mask\"].to(device)).squeeze(1)\n",
        "            loss = loss_function(outputs, batch[\"labels\"].float().to(device))\n",
        "            epoch_loss+=loss\n",
        "            epoch_accuracy+=binary_accuracy(outputs,batch[\"labels\"].to(device) )\n",
        "            data_num+=128\n",
        "\n",
        "    epoch_loss=epoch_loss.item()\n",
        "    epoch_accuracy/=data_num\n",
        "\n",
        "    return epoch_accuracy, epoch_loss"
      ],
      "metadata": {
        "id": "woXUF_YMosic"
      },
      "id": "woXUF_YMosic",
      "execution_count": 38,
      "outputs": []
    },
    {
      "cell_type": "code",
      "source": [
        "def epoch_time(start_time, end_time):\n",
        "    elapsed_time = end_time - start_time\n",
        "    elapsed_mins = int(elapsed_time / 60)\n",
        "    elapsed_secs = int(elapsed_time - (elapsed_mins * 60))\n",
        "    return elapsed_mins, elapsed_secs"
      ],
      "metadata": {
        "id": "JNJxSgGSpo1v"
      },
      "id": "JNJxSgGSpo1v",
      "execution_count": 39,
      "outputs": []
    },
    {
      "cell_type": "code",
      "source": [
        "train_history = []\n",
        "valid_history = []\n",
        "N_EPOCHS = 10\n",
        "CLIP = 1\n",
        "best_valid_loss = float('inf')"
      ],
      "metadata": {
        "id": "l4HXOo1jp-Km"
      },
      "id": "l4HXOo1jp-Km",
      "execution_count": 40,
      "outputs": []
    },
    {
      "cell_type": "code",
      "source": [
        "import time\n",
        "N_EPOCHS = 10\n",
        "for epoch in range(N_EPOCHS):\n",
        "    \n",
        "    start_time = time.time()\n",
        "    \n",
        "    train_acc, train_loss = train_data(model, train_loader,optimizer, loss_function, CLIP, train_history, valid_history)\n",
        "    valid_acc, val_loss = eval_data(model, dev_loader, loss_function)\n",
        "    \n",
        "    end_time = time.time()\n",
        "    \n",
        "    epoch_mins, epoch_secs = epoch_time(start_time, end_time)\n",
        "    if val_loss < best_valid_loss:\n",
        "        best_valid_loss = val_loss\n",
        "        torch.save(model.state_dict(), 'model/best-model.pt')\n",
        "\n",
        "    train_history.append(train_acc)\n",
        "    valid_history.append(valid_acc)\n",
        "    print(f'Epoch: {epoch+1:02} | Time: {epoch_mins}m {epoch_secs}s')\n",
        "    print(f'\\tTrain Loss: {train_loss:.3f} | Train Acc: {train_acc}')\n",
        "    print(f'\\t Val. Loss: {val_loss:.3f} |  Val. Acc: {valid_acc}')"
      ],
      "metadata": {
        "colab": {
          "base_uri": "https://localhost:8080/",
          "height": 565
        },
        "id": "v3FqesNXpozQ",
        "outputId": "432e5972-4261-4ab1-9abd-3c41ba50050b"
      },
      "id": "v3FqesNXpozQ",
      "execution_count": 41,
      "outputs": [
        {
          "output_type": "display_data",
          "data": {
            "text/plain": [
              "<Figure size 864x576 with 2 Axes>"
            ],
            "image/png": "[encoded data removed]"
          },
          "metadata": {
            "needs_background": "light"
          }
        },
        {
          "output_type": "stream",
          "name": "stdout",
          "text": [
            "Epoch: 10 | Time: 0m 28s\n",
            "\tTrain Loss: 31.079 | Train Acc: 0.8311079545454545\n",
            "\t Val. Loss: 3.960 |  Val. Acc: 0.8337053571428571\n"
          ]
        }
      ]
    },
    {
      "cell_type": "markdown",
      "source": [
        "After 10 epochs we have a accuracy of 83% on validation set"
      ],
      "metadata": {
        "id": "Pzgg2lt9tlYW"
      },
      "id": "Pzgg2lt9tlYW"
    },
    {
      "cell_type": "markdown",
      "source": [
        "load the best model"
      ],
      "metadata": {
        "id": "omz1V_vpwQ3b"
      },
      "id": "omz1V_vpwQ3b"
    },
    {
      "cell_type": "code",
      "source": [
        "model = EfficientTransformer(checkpoint,256)\n",
        "model.load_state_dict(torch.load('./model/best-model.pt'))\n",
        "model.eval()"
      ],
      "metadata": {
        "id": "o5xKqFU8powj"
      },
      "id": "o5xKqFU8powj",
      "execution_count": null,
      "outputs": []
    },
    {
      "cell_type": "code",
      "source": [
        "# Initialize variables to store the total number of examples and the number of correct predictions\n",
        "total_examples = 0\n",
        "correct_predictions = 0\n",
        "epoch_accuracy=0\n",
        "data_num=0\n",
        "model.to(device)\n",
        "\n",
        "# Iterate over the test data loader\n",
        "for batch in test_loader:\n",
        "    # Get the input and labels\n",
        "    predictions = model(batch[\"input_ids\"].to(device),batch[\"attention_mask\"].to(device)).squeeze(1)\n",
        "    correct_predictions+=binary_accuracy(predictions,batch[\"labels\"].to(device) )\n",
        "    data_num+=128\n",
        "\n",
        "# Calculate the accuracy by dividing the number of correct predictions by the total number of examples\n",
        "accuracy = correct_predictions / data_num\n",
        "\n",
        "# Print the accuracy\n",
        "print(\"Accuracy on test dataset: {:.2f}%\".format(accuracy * 100))\n"
      ],
      "metadata": {
        "colab": {
          "base_uri": "https://localhost:8080/"
        },
        "id": "0W0hUfmwpotg",
        "outputId": "09971afe-85cf-48d7-b7de-fe9f6e88a5ab"
      },
      "id": "0W0hUfmwpotg",
      "execution_count": 45,
      "outputs": [
        {
          "output_type": "stream",
          "name": "stdout",
          "text": [
            "Accuracy on test dataset: 80.57%\n"
          ]
        }
      ]
    },
    {
      "cell_type": "markdown",
      "source": [
        "The accuracy on test dataset is 80%"
      ],
      "metadata": {
        "id": "3x9cmoFHvpPQ"
      },
      "id": "3x9cmoFHvpPQ"
    },
    {
      "cell_type": "code",
      "source": [
        "def count_parameters(model):\n",
        "    return sum(p.numel() for p in model.parameters() if p.requires_grad)\n",
        "\n",
        "print(f'The model has {count_parameters(model):,} trainable parameters')"
      ],
      "metadata": {
        "colab": {
          "base_uri": "https://localhost:8080/"
        },
        "id": "jHjJ7z0KponL",
        "outputId": "f0bc98fa-e656-4b7d-c814-1d9405056e8e"
      },
      "id": "jHjJ7z0KponL",
      "execution_count": 46,
      "outputs": [
        {
          "output_type": "stream",
          "name": "stdout",
          "text": [
            "The model has 723,457 trainable parameters\n"
          ]
        }
      ]
    }
  ],
  "metadata": {
    "kernelspec": {
      "display_name": "Python 3",
      "language": "python",
      "name": "python3"
    },
    "language_info": {
      "codemirror_mode": {
        "name": "ipython",
        "version": 3
      },
      "file_extension": ".py",
      "mimetype": "text/x-python",
      "name": "python",
      "nbconvert_exporter": "python",
      "pygments_lexer": "ipython3",
      "version": "3.7.12"
    },
    "papermill": {
      "default_parameters": {},
      "duration": 445.878823,
      "end_time": "2022-03-05T08:14:25.856693",
      "environment_variables": {},
      "exception": null,
      "input_path": "__notebook__.ipynb",
      "output_path": "__notebook__.ipynb",
      "parameters": {},
      "start_time": "2022-03-05T08:06:59.977870",
      "version": "2.3.3"
    },
    "widgets": {
      "application/vnd.jupyter.widget-state+json": {
        "a3975f5145e64db98330d5de6581107a": {
          "model_module": "@jupyter-widgets/controls",
          "model_name": "HBoxModel",
          "model_module_version": "1.5.0",
          "state": {
            "_dom_classes": [],
            "_model_module": "@jupyter-widgets/controls",
            "_model_module_version": "1.5.0",
            "_model_name": "HBoxModel",
            "_view_count": null,
            "_view_module": "@jupyter-widgets/controls",
            "_view_module_version": "1.5.0",
            "_view_name": "HBoxView",
            "box_style": "",
            "children": [
              "IPY_MODEL_a22df643dee94803bef7a53d035bbdc2",
              "IPY_MODEL_0cf4eec31c9543e9aa43343899fe056c",
              "IPY_MODEL_8397ee3986af4f96a27c9bc049d520cc"
            ],
            "layout": "IPY_MODEL_e76a606c255e4399aed2f142cd648405"
          }
        },
        "a22df643dee94803bef7a53d035bbdc2": {
          "model_module": "@jupyter-widgets/controls",
          "model_name": "HTMLModel",
          "model_module_version": "1.5.0",
          "state": {
            "_dom_classes": [],
            "_model_module": "@jupyter-widgets/controls",
            "_model_module_version": "1.5.0",
            "_model_name": "HTMLModel",
            "_view_count": null,
            "_view_module": "@jupyter-widgets/controls",
            "_view_module_version": "1.5.0",
            "_view_name": "HTMLView",
            "description": "",
            "description_tooltip": null,
            "layout": "IPY_MODEL_1482980b8e2744fcb4531758b9ee1047",
            "placeholder": "​",
            "style": "IPY_MODEL_eb1819d0ee9f4a9e959476b79518093a",
            "value": "100%"
          }
        },
        "0cf4eec31c9543e9aa43343899fe056c": {
          "model_module": "@jupyter-widgets/controls",
          "model_name": "FloatProgressModel",
          "model_module_version": "1.5.0",
          "state": {
            "_dom_classes": [],
            "_model_module": "@jupyter-widgets/controls",
            "_model_module_version": "1.5.0",
            "_model_name": "FloatProgressModel",
            "_view_count": null,
            "_view_module": "@jupyter-widgets/controls",
            "_view_module_version": "1.5.0",
            "_view_name": "ProgressView",
            "bar_style": "success",
            "description": "",
            "description_tooltip": null,
            "layout": "IPY_MODEL_2d823caf09e1409080745deede92909a",
            "max": 3,
            "min": 0,
            "orientation": "horizontal",
            "style": "IPY_MODEL_2983393448ec4dedb3eae61b0b295d77",
            "value": 3
          }
        },
        "8397ee3986af4f96a27c9bc049d520cc": {
          "model_module": "@jupyter-widgets/controls",
          "model_name": "HTMLModel",
          "model_module_version": "1.5.0",
          "state": {
            "_dom_classes": [],
            "_model_module": "@jupyter-widgets/controls",
            "_model_module_version": "1.5.0",
            "_model_name": "HTMLModel",
            "_view_count": null,
            "_view_module": "@jupyter-widgets/controls",
            "_view_module_version": "1.5.0",
            "_view_name": "HTMLView",
            "description": "",
            "description_tooltip": null,
            "layout": "IPY_MODEL_63c2ca9b1fb34a719820f85deb29430d",
            "placeholder": "​",
            "style": "IPY_MODEL_4ce9ec83978e4e5cba03159f0cf2e8fb",
            "value": " 3/3 [00:00&lt;00:00, 104.00it/s]"
          }
        },
        "e76a606c255e4399aed2f142cd648405": {
          "model_module": "@jupyter-widgets/base",
          "model_name": "LayoutModel",
          "model_module_version": "1.2.0",
          "state": {
            "_model_module": "@jupyter-widgets/base",
            "_model_module_version": "1.2.0",
            "_model_name": "LayoutModel",
            "_view_count": null,
            "_view_module": "@jupyter-widgets/base",
            "_view_module_version": "1.2.0",
            "_view_name": "LayoutView",
            "align_content": null,
            "align_items": null,
            "align_self": null,
            "border": null,
            "bottom": null,
            "display": null,
            "flex": null,
            "flex_flow": null,
            "grid_area": null,
            "grid_auto_columns": null,
            "grid_auto_flow": null,
            "grid_auto_rows": null,
            "grid_column": null,
            "grid_gap": null,
            "grid_row": null,
            "grid_template_areas": null,
            "grid_template_columns": null,
            "grid_template_rows": null,
            "height": null,
            "justify_content": null,
            "justify_items": null,
            "left": null,
            "margin": null,
            "max_height": null,
            "max_width": null,
            "min_height": null,
            "min_width": null,
            "object_fit": null,
            "object_position": null,
            "order": null,
            "overflow": null,
            "overflow_x": null,
            "overflow_y": null,
            "padding": null,
            "right": null,
            "top": null,
            "visibility": null,
            "width": null
          }
        },
        "1482980b8e2744fcb4531758b9ee1047": {
          "model_module": "@jupyter-widgets/base",
          "model_name": "LayoutModel",
          "model_module_version": "1.2.0",
          "state": {
            "_model_module": "@jupyter-widgets/base",
            "_model_module_version": "1.2.0",
            "_model_name": "LayoutModel",
            "_view_count": null,
            "_view_module": "@jupyter-widgets/base",
            "_view_module_version": "1.2.0",
            "_view_name": "LayoutView",
            "align_content": null,
            "align_items": null,
            "align_self": null,
            "border": null,
            "bottom": null,
            "display": null,
            "flex": null,
            "flex_flow": null,
            "grid_area": null,
            "grid_auto_columns": null,
            "grid_auto_flow": null,
            "grid_auto_rows": null,
            "grid_column": null,
            "grid_gap": null,
            "grid_row": null,
            "grid_template_areas": null,
            "grid_template_columns": null,
            "grid_template_rows": null,
            "height": null,
            "justify_content": null,
            "justify_items": null,
            "left": null,
            "margin": null,
            "max_height": null,
            "max_width": null,
            "min_height": null,
            "min_width": null,
            "object_fit": null,
            "object_position": null,
            "order": null,
            "overflow": null,
            "overflow_x": null,
            "overflow_y": null,
            "padding": null,
            "right": null,
            "top": null,
            "visibility": null,
            "width": null
          }
        },
        "eb1819d0ee9f4a9e959476b79518093a": {
          "model_module": "@jupyter-widgets/controls",
          "model_name": "DescriptionStyleModel",
          "model_module_version": "1.5.0",
          "state": {
            "_model_module": "@jupyter-widgets/controls",
            "_model_module_version": "1.5.0",
            "_model_name": "DescriptionStyleModel",
            "_view_count": null,
            "_view_module": "@jupyter-widgets/base",
            "_view_module_version": "1.2.0",
            "_view_name": "StyleView",
            "description_width": ""
          }
        },
        "2d823caf09e1409080745deede92909a": {
          "model_module": "@jupyter-widgets/base",
          "model_name": "LayoutModel",
          "model_module_version": "1.2.0",
          "state": {
            "_model_module": "@jupyter-widgets/base",
            "_model_module_version": "1.2.0",
            "_model_name": "LayoutModel",
            "_view_count": null,
            "_view_module": "@jupyter-widgets/base",
            "_view_module_version": "1.2.0",
            "_view_name": "LayoutView",
            "align_content": null,
            "align_items": null,
            "align_self": null,
            "border": null,
            "bottom": null,
            "display": null,
            "flex": null,
            "flex_flow": null,
            "grid_area": null,
            "grid_auto_columns": null,
            "grid_auto_flow": null,
            "grid_auto_rows": null,
            "grid_column": null,
            "grid_gap": null,
            "grid_row": null,
            "grid_template_areas": null,
            "grid_template_columns": null,
            "grid_template_rows": null,
            "height": null,
            "justify_content": null,
            "justify_items": null,
            "left": null,
            "margin": null,
            "max_height": null,
            "max_width": null,
            "min_height": null,
            "min_width": null,
            "object_fit": null,
            "object_position": null,
            "order": null,
            "overflow": null,
            "overflow_x": null,
            "overflow_y": null,
            "padding": null,
            "right": null,
            "top": null,
            "visibility": null,
            "width": null
          }
        },
        "2983393448ec4dedb3eae61b0b295d77": {
          "model_module": "@jupyter-widgets/controls",
          "model_name": "ProgressStyleModel",
          "model_module_version": "1.5.0",
          "state": {
            "_model_module": "@jupyter-widgets/controls",
            "_model_module_version": "1.5.0",
            "_model_name": "ProgressStyleModel",
            "_view_count": null,
            "_view_module": "@jupyter-widgets/base",
            "_view_module_version": "1.2.0",
            "_view_name": "StyleView",
            "bar_color": null,
            "description_width": ""
          }
        },
        "63c2ca9b1fb34a719820f85deb29430d": {
          "model_module": "@jupyter-widgets/base",
          "model_name": "LayoutModel",
          "model_module_version": "1.2.0",
          "state": {
            "_model_module": "@jupyter-widgets/base",
            "_model_module_version": "1.2.0",
            "_model_name": "LayoutModel",
            "_view_count": null,
            "_view_module": "@jupyter-widgets/base",
            "_view_module_version": "1.2.0",
            "_view_name": "LayoutView",
            "align_content": null,
            "align_items": null,
            "align_self": null,
            "border": null,
            "bottom": null,
            "display": null,
            "flex": null,
            "flex_flow": null,
            "grid_area": null,
            "grid_auto_columns": null,
            "grid_auto_flow": null,
            "grid_auto_rows": null,
            "grid_column": null,
            "grid_gap": null,
            "grid_row": null,
            "grid_template_areas": null,
            "grid_template_columns": null,
            "grid_template_rows": null,
            "height": null,
            "justify_content": null,
            "justify_items": null,
            "left": null,
            "margin": null,
            "max_height": null,
            "max_width": null,
            "min_height": null,
            "min_width": null,
            "object_fit": null,
            "object_position": null,
            "order": null,
            "overflow": null,
            "overflow_x": null,
            "overflow_y": null,
            "padding": null,
            "right": null,
            "top": null,
            "visibility": null,
            "width": null
          }
        },
        "4ce9ec83978e4e5cba03159f0cf2e8fb": {
          "model_module": "@jupyter-widgets/controls",
          "model_name": "DescriptionStyleModel",
          "model_module_version": "1.5.0",
          "state": {
            "_model_module": "@jupyter-widgets/controls",
            "_model_module_version": "1.5.0",
            "_model_name": "DescriptionStyleModel",
            "_view_count": null,
            "_view_module": "@jupyter-widgets/base",
            "_view_module_version": "1.2.0",
            "_view_name": "StyleView",
            "description_width": ""
          }
        },
        "abb8aec31ae449f58dac0837a6516962": {
          "model_module": "@jupyter-widgets/controls",
          "model_name": "HBoxModel",
          "model_module_version": "1.5.0",
          "state": {
            "_dom_classes": [],
            "_model_module": "@jupyter-widgets/controls",
            "_model_module_version": "1.5.0",
            "_model_name": "HBoxModel",
            "_view_count": null,
            "_view_module": "@jupyter-widgets/controls",
            "_view_module_version": "1.5.0",
            "_view_name": "HBoxView",
            "box_style": "",
            "children": [
              "IPY_MODEL_689ad37c7be541b9b124364519d3a7e0",
              "IPY_MODEL_95eebc1dc178492bb238d7ee7a06df5f",
              "IPY_MODEL_c0f379cd1c544ecebda05a35ffd895f9"
            ],
            "layout": "IPY_MODEL_f75caf4c1f404836ab19b028eef8d294"
          }
        },
        "689ad37c7be541b9b124364519d3a7e0": {
          "model_module": "@jupyter-widgets/controls",
          "model_name": "HTMLModel",
          "model_module_version": "1.5.0",
          "state": {
            "_dom_classes": [],
            "_model_module": "@jupyter-widgets/controls",
            "_model_module_version": "1.5.0",
            "_model_name": "HTMLModel",
            "_view_count": null,
            "_view_module": "@jupyter-widgets/controls",
            "_view_module_version": "1.5.0",
            "_view_name": "HTMLView",
            "description": "",
            "description_tooltip": null,
            "layout": "IPY_MODEL_8ec7fb8040fd4707b5af4b39bafc24c7",
            "placeholder": "​",
            "style": "IPY_MODEL_3378c10dd485488890c698d2b622c5ae",
            "value": "100%"
          }
        },
        "95eebc1dc178492bb238d7ee7a06df5f": {
          "model_module": "@jupyter-widgets/controls",
          "model_name": "FloatProgressModel",
          "model_module_version": "1.5.0",
          "state": {
            "_dom_classes": [],
            "_model_module": "@jupyter-widgets/controls",
            "_model_module_version": "1.5.0",
            "_model_name": "FloatProgressModel",
            "_view_count": null,
            "_view_module": "@jupyter-widgets/controls",
            "_view_module_version": "1.5.0",
            "_view_name": "ProgressView",
            "bar_style": "success",
            "description": "",
            "description_tooltip": null,
            "layout": "IPY_MODEL_1a14c5583fab4c40a3e12195d2d778c0",
            "max": 7,
            "min": 0,
            "orientation": "horizontal",
            "style": "IPY_MODEL_2b1728f8965847858ea3abf8d3273310",
            "value": 7
          }
        },
        "c0f379cd1c544ecebda05a35ffd895f9": {
          "model_module": "@jupyter-widgets/controls",
          "model_name": "HTMLModel",
          "model_module_version": "1.5.0",
          "state": {
            "_dom_classes": [],
            "_model_module": "@jupyter-widgets/controls",
            "_model_module_version": "1.5.0",
            "_model_name": "HTMLModel",
            "_view_count": null,
            "_view_module": "@jupyter-widgets/controls",
            "_view_module_version": "1.5.0",
            "_view_name": "HTMLView",
            "description": "",
            "description_tooltip": null,
            "layout": "IPY_MODEL_eeca558e0c224e099e1f02d9d7c07f88",
            "placeholder": "​",
            "style": "IPY_MODEL_cf0f2e85285842bc90ac6bb96bbc1513",
            "value": " 7/7 [00:00&lt;00:00, 15.30ba/s]"
          }
        },
        "f75caf4c1f404836ab19b028eef8d294": {
          "model_module": "@jupyter-widgets/base",
          "model_name": "LayoutModel",
          "model_module_version": "1.2.0",
          "state": {
            "_model_module": "@jupyter-widgets/base",
            "_model_module_version": "1.2.0",
            "_model_name": "LayoutModel",
            "_view_count": null,
            "_view_module": "@jupyter-widgets/base",
            "_view_module_version": "1.2.0",
            "_view_name": "LayoutView",
            "align_content": null,
            "align_items": null,
            "align_self": null,
            "border": null,
            "bottom": null,
            "display": null,
            "flex": null,
            "flex_flow": null,
            "grid_area": null,
            "grid_auto_columns": null,
            "grid_auto_flow": null,
            "grid_auto_rows": null,
            "grid_column": null,
            "grid_gap": null,
            "grid_row": null,
            "grid_template_areas": null,
            "grid_template_columns": null,
            "grid_template_rows": null,
            "height": null,
            "justify_content": null,
            "justify_items": null,
            "left": null,
            "margin": null,
            "max_height": null,
            "max_width": null,
            "min_height": null,
            "min_width": null,
            "object_fit": null,
            "object_position": null,
            "order": null,
            "overflow": null,
            "overflow_x": null,
            "overflow_y": null,
            "padding": null,
            "right": null,
            "top": null,
            "visibility": null,
            "width": null
          }
        },
        "8ec7fb8040fd4707b5af4b39bafc24c7": {
          "model_module": "@jupyter-widgets/base",
          "model_name": "LayoutModel",
          "model_module_version": "1.2.0",
          "state": {
            "_model_module": "@jupyter-widgets/base",
            "_model_module_version": "1.2.0",
            "_model_name": "LayoutModel",
            "_view_count": null,
            "_view_module": "@jupyter-widgets/base",
            "_view_module_version": "1.2.0",
            "_view_name": "LayoutView",
            "align_content": null,
            "align_items": null,
            "align_self": null,
            "border": null,
            "bottom": null,
            "display": null,
            "flex": null,
            "flex_flow": null,
            "grid_area": null,
            "grid_auto_columns": null,
            "grid_auto_flow": null,
            "grid_auto_rows": null,
            "grid_column": null,
            "grid_gap": null,
            "grid_row": null,
            "grid_template_areas": null,
            "grid_template_columns": null,
            "grid_template_rows": null,
            "height": null,
            "justify_content": null,
            "justify_items": null,
            "left": null,
            "margin": null,
            "max_height": null,
            "max_width": null,
            "min_height": null,
            "min_width": null,
            "object_fit": null,
            "object_position": null,
            "order": null,
            "overflow": null,
            "overflow_x": null,
            "overflow_y": null,
            "padding": null,
            "right": null,
            "top": null,
            "visibility": null,
            "width": null
          }
        },
        "3378c10dd485488890c698d2b622c5ae": {
          "model_module": "@jupyter-widgets/controls",
          "model_name": "DescriptionStyleModel",
          "model_module_version": "1.5.0",
          "state": {
            "_model_module": "@jupyter-widgets/controls",
            "_model_module_version": "1.5.0",
            "_model_name": "DescriptionStyleModel",
            "_view_count": null,
            "_view_module": "@jupyter-widgets/base",
            "_view_module_version": "1.2.0",
            "_view_name": "StyleView",
            "description_width": ""
          }
        },
        "1a14c5583fab4c40a3e12195d2d778c0": {
          "model_module": "@jupyter-widgets/base",
          "model_name": "LayoutModel",
          "model_module_version": "1.2.0",
          "state": {
            "_model_module": "@jupyter-widgets/base",
            "_model_module_version": "1.2.0",
            "_model_name": "LayoutModel",
            "_view_count": null,
            "_view_module": "@jupyter-widgets/base",
            "_view_module_version": "1.2.0",
            "_view_name": "LayoutView",
            "align_content": null,
            "align_items": null,
            "align_self": null,
            "border": null,
            "bottom": null,
            "display": null,
            "flex": null,
            "flex_flow": null,
            "grid_area": null,
            "grid_auto_columns": null,
            "grid_auto_flow": null,
            "grid_auto_rows": null,
            "grid_column": null,
            "grid_gap": null,
            "grid_row": null,
            "grid_template_areas": null,
            "grid_template_columns": null,
            "grid_template_rows": null,
            "height": null,
            "justify_content": null,
            "justify_items": null,
            "left": null,
            "margin": null,
            "max_height": null,
            "max_width": null,
            "min_height": null,
            "min_width": null,
            "object_fit": null,
            "object_position": null,
            "order": null,
            "overflow": null,
            "overflow_x": null,
            "overflow_y": null,
            "padding": null,
            "right": null,
            "top": null,
            "visibility": null,
            "width": null
          }
        },
        "2b1728f8965847858ea3abf8d3273310": {
          "model_module": "@jupyter-widgets/controls",
          "model_name": "ProgressStyleModel",
          "model_module_version": "1.5.0",
          "state": {
            "_model_module": "@jupyter-widgets/controls",
            "_model_module_version": "1.5.0",
            "_model_name": "ProgressStyleModel",
            "_view_count": null,
            "_view_module": "@jupyter-widgets/base",
            "_view_module_version": "1.2.0",
            "_view_name": "StyleView",
            "bar_color": null,
            "description_width": ""
          }
        },
        "eeca558e0c224e099e1f02d9d7c07f88": {
          "model_module": "@jupyter-widgets/base",
          "model_name": "LayoutModel",
          "model_module_version": "1.2.0",
          "state": {
            "_model_module": "@jupyter-widgets/base",
            "_model_module_version": "1.2.0",
            "_model_name": "LayoutModel",
            "_view_count": null,
            "_view_module": "@jupyter-widgets/base",
            "_view_module_version": "1.2.0",
            "_view_name": "LayoutView",
            "align_content": null,
            "align_items": null,
            "align_self": null,
            "border": null,
            "bottom": null,
            "display": null,
            "flex": null,
            "flex_flow": null,
            "grid_area": null,
            "grid_auto_columns": null,
            "grid_auto_flow": null,
            "grid_auto_rows": null,
            "grid_column": null,
            "grid_gap": null,
            "grid_row": null,
            "grid_template_areas": null,
            "grid_template_columns": null,
            "grid_template_rows": null,
            "height": null,
            "justify_content": null,
            "justify_items": null,
            "left": null,
            "margin": null,
            "max_height": null,
            "max_width": null,
            "min_height": null,
            "min_width": null,
            "object_fit": null,
            "object_position": null,
            "order": null,
            "overflow": null,
            "overflow_x": null,
            "overflow_y": null,
            "padding": null,
            "right": null,
            "top": null,
            "visibility": null,
            "width": null
          }
        },
        "cf0f2e85285842bc90ac6bb96bbc1513": {
          "model_module": "@jupyter-widgets/controls",
          "model_name": "DescriptionStyleModel",
          "model_module_version": "1.5.0",
          "state": {
            "_model_module": "@jupyter-widgets/controls",
            "_model_module_version": "1.5.0",
            "_model_name": "DescriptionStyleModel",
            "_view_count": null,
            "_view_module": "@jupyter-widgets/base",
            "_view_module_version": "1.2.0",
            "_view_name": "StyleView",
            "description_width": ""
          }
        }
      }
    },
    "colab": {
      "provenance": []
    },
    "accelerator": "GPU",
    "gpuClass": "standard"
  },
  "nbformat": 4,
  "nbformat_minor": 5
}